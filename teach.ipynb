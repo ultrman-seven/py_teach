{
 "cells": [
  {
   "cell_type": "markdown",
   "metadata": {},
   "source": [
    "# 1. hello world\n",
    "\n",
    "python的安装与运行"
   ]
  },
  {
   "cell_type": "code",
   "execution_count": null,
   "metadata": {},
   "outputs": [],
   "source": [
    "print('hello world')\n",
    "# 好大颗的呢\n"
   ]
  },
  {
   "cell_type": "markdown",
   "metadata": {},
   "source": [
    "# 变量与数据类型\n",
    "\n",
    "## 变量的命名规则\n",
    "\n",
    "1. 必须字母开头，或者是下划线开头(_)，是字母，下划线和数字的组合。\n",
    "\n",
    "1. 整数 int  1，2，3\n",
    "2. 浮点数 float 1.1，2.2\n",
    "3. 字符串 str 'hello world' , \"hello world\"\n",
    "4. 布尔值 bool True, False\n",
    "5. 其他"
   ]
  },
  {
   "cell_type": "code",
   "execution_count": null,
   "metadata": {},
   "outputs": [],
   "source": [
    "a = 'hello world'\n",
    "b = 5\n",
    "\n",
    "num1 = 10\n",
    "num2 = 1.5\n",
    "\n",
    "str1 = 'hello world'\n",
    "str2 = \"hello\"\n",
    "\n",
    "bool1 = True\n",
    "bool2 = False\n",
    "# print(a)\n",
    "# print(5)\n",
    "__num54561 = 5\n",
    "f = print\n",
    "\n",
    "f(num1)\n",
    "\n",
    "# print(num1)\n",
    "# print(num2)\n",
    "# print(str1)\n",
    "# print(str2)\n",
    "# print(bool1)\n",
    "# print(bool2)"
   ]
  },
  {
   "cell_type": "markdown",
   "metadata": {},
   "source": [
    "## 整数"
   ]
  },
  {
   "cell_type": "code",
   "execution_count": null,
   "metadata": {},
   "outputs": [],
   "source": [
    "a = 4\n",
    "\n",
    "b = '4'\n",
    "c = int(b)\n",
    "\n",
    "print('a=', a)\n",
    "print('b=', b)\n",
    "print('c=', c)\n"
   ]
  },
  {
   "cell_type": "markdown",
   "metadata": {},
   "source": [
    "### 运算规则"
   ]
  },
  {
   "cell_type": "code",
   "execution_count": null,
   "metadata": {},
   "outputs": [],
   "source": [
    "a = 4\n",
    "b=5\n",
    "c = a+b\n",
    "d = a-b\n",
    "e = a*b/c\n",
    "f = a*b//c\n",
    "g = (a*b)%c\n",
    "\n",
    "print(c)\n",
    "print(d)\n",
    "print(e)\n",
    "print(f)\n",
    "print(g)\n",
    "huge_num = 5_000_000\n",
    "print(huge_num)\n",
    "\n",
    "x,y,z = 1,2,3\n",
    "print(x,y,z)\n",
    "\n",
    "float_num = 5.5\n",
    "\n",
    "aa = 'hello world'\n",
    "# print(a+aa)\n",
    "\n",
    "obj_num = 1234\n",
    "\n",
    "print('bit length:' ,obj_num.bit_length())\n"
   ]
  },
  {
   "cell_type": "markdown",
   "metadata": {},
   "source": [
    "## 字符串"
   ]
  },
  {
   "cell_type": "code",
   "execution_count": 23,
   "metadata": {},
   "outputs": [
    {
     "name": "stdout",
     "output_type": "stream",
     "text": [
      "HELLO\n",
      "helloHELLO\n",
      "True\n"
     ]
    }
   ],
   "source": [
    "s  = 'hello'\n",
    "\n",
    "s_new =  s.upper()\n",
    "\n",
    "print(s_new)\n",
    "\n",
    "c = s+s_new\n",
    "\n",
    "print(c)\n",
    "\n",
    "# in \n",
    "a = 'e' in 'hello world'\n",
    "\n",
    "print(a)\n",
    "\n"
   ]
  }
 ],
 "metadata": {
  "kernelspec": {
   "display_name": "Python 3.7.8 64-bit",
   "language": "python",
   "name": "python3"
  },
  "language_info": {
   "codemirror_mode": {
    "name": "ipython",
    "version": 3
   },
   "file_extension": ".py",
   "mimetype": "text/x-python",
   "name": "python",
   "nbconvert_exporter": "python",
   "pygments_lexer": "ipython3",
   "version": "3.7.8"
  },
  "orig_nbformat": 4,
  "vscode": {
   "interpreter": {
    "hash": "c6aeca87e53583627b8b79e4f4da41d10e1acf8a2564923b7f23db1af83b45f2"
   }
  }
 },
 "nbformat": 4,
 "nbformat_minor": 2
}
