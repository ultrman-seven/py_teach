{
 "cells": [
  {
   "cell_type": "markdown",
   "metadata": {},
   "source": [
    "# 1. hello world\n",
    "\n",
    "python的安装与运行\n",
    "\n",
    "## 第一步，搭建环境\n",
    "\n",
    "1. 安装python\n",
    "\n",
    "下载[Python](https://www.python.org/)并安装，设置好环境变量（安装时有相关选项可以勾上）\n",
    "\n",
    "2. 安装vs code，舒适的编程环境\n",
    "\n",
    "下载[Visual Studio Code](https://code.visualstudio.com/)并安装。\n",
    "\n",
    "安装好后下载扩展：中文和python\n",
    "\n",
    "![](../doc/1/ch.png)\n",
    "\n",
    "![](../doc/1/py.png)\n",
    "\n",
    "## Hello World！第一个程序\n",
    "\n",
    "创建`hello_world.py`并运行，代码如下"
   ]
  },
  {
   "cell_type": "code",
   "execution_count": null,
   "metadata": {},
   "outputs": [],
   "source": [
    "print('hello world')\n"
   ]
  },
  {
   "cell_type": "markdown",
   "metadata": {},
   "source": [
    "点击右上角的小三角运行。\n",
    "\n",
    "![](../doc/1/run.png)\n",
    "\n",
    "观察终端输出。"
   ]
  }
 ],
 "metadata": {
  "kernelspec": {
   "display_name": "Python 3.6.9 64-bit",
   "language": "python",
   "name": "python3"
  },
  "language_info": {
   "name": "python",
   "version": "3.6.9"
  },
  "orig_nbformat": 4,
  "vscode": {
   "interpreter": {
    "hash": "31f2aee4e71d21fbe5cf8b01ff0e069b9275f58929596ceb00d14d90e3e16cd6"
   }
  }
 },
 "nbformat": 4,
 "nbformat_minor": 2
}
