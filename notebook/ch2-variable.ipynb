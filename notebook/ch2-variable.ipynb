{
 "cells": [
  {
   "cell_type": "markdown",
   "metadata": {},
   "source": [
    "# 2.变量与数据类型\n",
    "\n",
    "从`print('hello world')`到变量。"
   ]
  },
  {
   "cell_type": "code",
   "execution_count": null,
   "metadata": {},
   "outputs": [],
   "source": [
    "text = 'hello world'\n",
    "print(text)"
   ]
  },
  {
   "cell_type": "markdown",
   "metadata": {},
   "source": [
    "`'hello world'`是一串字符，`print`函数的功能是将该字符输出到终端。\n",
    "\n",
    "现在创建了`text`这样一个变量，其储存的内容为：`'hello world'`\n",
    "用`print`将这个变量输出，其结果与直接输出字符串一模一样。\n",
    "\n",
    "> 变量不仅可以储存字符串，还可以储存函数"
   ]
  },
  {
   "cell_type": "code",
   "execution_count": null,
   "metadata": {},
   "outputs": [],
   "source": [
    "text = 'hello world'\n",
    "func = print\n",
    "\n",
    "func(text)"
   ]
  },
  {
   "cell_type": "markdown",
   "metadata": {},
   "source": [
    "## 变量的命名规则\n",
    "\n",
    "- 不遵守就会报错的\n",
    "\n",
    "1. 是<font color=red>字母，下划线(_)和数字的组合</font>，必须字母开头，或者是下划线开头。(其实中文也可以，但是不推荐使用)\n",
    "\n",
    "2. 要避免与python专有的关键字起冲突。比如，不能使用`str`、`int`、`for`、`is`、`not`等作为变量名\n",
    "\n",
    "- 合法但有病的\n",
    "\n",
    "1. 尽量少用`a,b,c,i,j,k`这样简单的字母\n",
    "\n",
    "    因为程序阅读起来比较费解，可能写完过几天就看不懂了，尽量使用这个变量代表的英文单词，如：\n",
    "\n",
    "    ```python\n",
    "    student_name = 'vs code'\n",
    "    average_score = 95\n",
    "    ```"
   ]
  },
  {
   "cell_type": "markdown",
   "metadata": {},
   "source": [
    "\n",
    "数据类型分类\n",
    "|名称|类型|举例|\n",
    "|:-------|:--------:|:-|\n",
    "|整数|int|1，2，3|\n",
    "|浮点数|float|1.1，2.2|\n",
    "|字符串|str|'hello world' , \"hello world\"|\n",
    "|布尔值|bool|True, False|\n"
   ]
  },
  {
   "cell_type": "code",
   "execution_count": null,
   "metadata": {},
   "outputs": [],
   "source": [
    "a = 'hello world'\n",
    "b = 5\n",
    "\n",
    "num1 = 10\n",
    "num2 = 1.5\n",
    "\n",
    "str1 = 'hello world'\n",
    "str2 = \"hello\"\n",
    "\n",
    "bool1 = True\n",
    "bool2 = False\n",
    "# print(a)\n",
    "# print(5)\n",
    "__num54561 = 5\n",
    "f = print\n",
    "\n",
    "f(num1)\n",
    "\n",
    "# print(num1)\n",
    "# print(num2)\n",
    "# print(str1)\n",
    "# print(str2)\n",
    "# print(bool1)\n",
    "# print(bool2)"
   ]
  },
  {
   "cell_type": "markdown",
   "metadata": {},
   "source": [
    "## 整数"
   ]
  },
  {
   "cell_type": "code",
   "execution_count": null,
   "metadata": {},
   "outputs": [],
   "source": [
    "a = 4\n",
    "\n",
    "b = '4'\n",
    "c = int(b)\n",
    "\n",
    "print('a=', a)\n",
    "print('b=', b)\n",
    "print('c=', c)\n"
   ]
  },
  {
   "cell_type": "markdown",
   "metadata": {},
   "source": [
    "### 运算规则"
   ]
  },
  {
   "cell_type": "code",
   "execution_count": null,
   "metadata": {},
   "outputs": [],
   "source": [
    "a = 4\n",
    "b=5\n",
    "c = a+b\n",
    "d = a-b\n",
    "e = a*b/c\n",
    "f = a*b//c\n",
    "g = (a*b)%c\n",
    "\n",
    "print(c)\n",
    "print(d)\n",
    "print(e)\n",
    "print(f)\n",
    "print(g)\n",
    "huge_num = 5_000_000\n",
    "print(huge_num)\n",
    "\n",
    "x,y,z = 1,2,3\n",
    "print(x,y,z)\n",
    "\n",
    "float_num = 5.5\n",
    "\n",
    "aa = 'hello world'\n",
    "# print(a+aa)\n",
    "\n",
    "obj_num = 1234\n",
    "\n",
    "print('bit length:' ,obj_num.bit_length())\n"
   ]
  },
  {
   "cell_type": "markdown",
   "metadata": {},
   "source": [
    "## 字符串"
   ]
  },
  {
   "cell_type": "code",
   "execution_count": null,
   "metadata": {},
   "outputs": [],
   "source": [
    "s  = 'hello'\n",
    "\n",
    "s_new =  s.upper()\n",
    "\n",
    "print(s_new)\n",
    "\n",
    "c = s+s_new\n",
    "\n",
    "print(c)\n",
    "\n",
    "# in \n",
    "a = 'e' in 'hello world'\n",
    "\n",
    "print(a)\n"
   ]
  }
 ],
 "metadata": {
  "kernelspec": {
   "display_name": "Python 3.6.9 64-bit",
   "language": "python",
   "name": "python3"
  },
  "language_info": {
   "name": "python",
   "version": "3.6.9"
  },
  "orig_nbformat": 4,
  "vscode": {
   "interpreter": {
    "hash": "31f2aee4e71d21fbe5cf8b01ff0e069b9275f58929596ceb00d14d90e3e16cd6"
   }
  }
 },
 "nbformat": 4,
 "nbformat_minor": 2
}
